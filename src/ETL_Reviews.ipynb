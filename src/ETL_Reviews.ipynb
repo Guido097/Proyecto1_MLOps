{
 "cells": [
  {
   "cell_type": "code",
   "execution_count": 28,
   "metadata": {},
   "outputs": [],
   "source": [
    "import ast\n",
    "import pandas as pd"
   ]
  },
  {
   "cell_type": "code",
   "execution_count": 29,
   "metadata": {},
   "outputs": [],
   "source": [
    "rows = []\n",
    "with open('australian_user_reviews.json',encoding='MacRoman') as f: ## Cargamos y leemos los registros\n",
    "  for line in f.readlines():\n",
    "    rows.append(ast.literal_eval(line)) ## Linea por linea\n",
    "\n",
    "df_reviews = pd.DataFrame(rows)"
   ]
  },
  {
   "cell_type": "code",
   "execution_count": 30,
   "metadata": {},
   "outputs": [
    {
     "data": {
      "text/plain": [
       "(25799, 3)"
      ]
     },
     "execution_count": 30,
     "metadata": {},
     "output_type": "execute_result"
    }
   ],
   "source": [
    "df_reviews.shape"
   ]
  },
  {
   "cell_type": "code",
   "execution_count": 31,
   "metadata": {},
   "outputs": [
    {
     "data": {
      "text/html": [
       "<div>\n",
       "<style scoped>\n",
       "    .dataframe tbody tr th:only-of-type {\n",
       "        vertical-align: middle;\n",
       "    }\n",
       "\n",
       "    .dataframe tbody tr th {\n",
       "        vertical-align: top;\n",
       "    }\n",
       "\n",
       "    .dataframe thead th {\n",
       "        text-align: right;\n",
       "    }\n",
       "</style>\n",
       "<table border=\"1\" class=\"dataframe\">\n",
       "  <thead>\n",
       "    <tr style=\"text-align: right;\">\n",
       "      <th></th>\n",
       "      <th>user_id</th>\n",
       "      <th>user_url</th>\n",
       "      <th>reviews</th>\n",
       "    </tr>\n",
       "  </thead>\n",
       "  <tbody>\n",
       "    <tr>\n",
       "      <th>0</th>\n",
       "      <td>76561197970982479</td>\n",
       "      <td>http://steamcommunity.com/profiles/76561197970...</td>\n",
       "      <td>[{'funny': '', 'posted': 'Posted November 5, 2...</td>\n",
       "    </tr>\n",
       "    <tr>\n",
       "      <th>1</th>\n",
       "      <td>js41637</td>\n",
       "      <td>http://steamcommunity.com/id/js41637</td>\n",
       "      <td>[{'funny': '', 'posted': 'Posted June 24, 2014...</td>\n",
       "    </tr>\n",
       "    <tr>\n",
       "      <th>2</th>\n",
       "      <td>evcentric</td>\n",
       "      <td>http://steamcommunity.com/id/evcentric</td>\n",
       "      <td>[{'funny': '', 'posted': 'Posted February 3.',...</td>\n",
       "    </tr>\n",
       "    <tr>\n",
       "      <th>3</th>\n",
       "      <td>doctr</td>\n",
       "      <td>http://steamcommunity.com/id/doctr</td>\n",
       "      <td>[{'funny': '', 'posted': 'Posted October 14, 2...</td>\n",
       "    </tr>\n",
       "    <tr>\n",
       "      <th>4</th>\n",
       "      <td>maplemage</td>\n",
       "      <td>http://steamcommunity.com/id/maplemage</td>\n",
       "      <td>[{'funny': '3 people found this review funny',...</td>\n",
       "    </tr>\n",
       "  </tbody>\n",
       "</table>\n",
       "</div>"
      ],
      "text/plain": [
       "             user_id                                           user_url  \\\n",
       "0  76561197970982479  http://steamcommunity.com/profiles/76561197970...   \n",
       "1            js41637               http://steamcommunity.com/id/js41637   \n",
       "2          evcentric             http://steamcommunity.com/id/evcentric   \n",
       "3              doctr                 http://steamcommunity.com/id/doctr   \n",
       "4          maplemage             http://steamcommunity.com/id/maplemage   \n",
       "\n",
       "                                             reviews  \n",
       "0  [{'funny': '', 'posted': 'Posted November 5, 2...  \n",
       "1  [{'funny': '', 'posted': 'Posted June 24, 2014...  \n",
       "2  [{'funny': '', 'posted': 'Posted February 3.',...  \n",
       "3  [{'funny': '', 'posted': 'Posted October 14, 2...  \n",
       "4  [{'funny': '3 people found this review funny',...  "
      ]
     },
     "execution_count": 31,
     "metadata": {},
     "output_type": "execute_result"
    }
   ],
   "source": [
    "df_reviews.head()"
   ]
  },
  {
   "cell_type": "code",
   "execution_count": 32,
   "metadata": {},
   "outputs": [],
   "source": [
    "#Explotamos la columna \"reviews\" del dataframe en un nuevo dataframe.\n",
    "df_comenExpan = df_reviews.explode('reviews')\n",
    "\n",
    "#Concatenamos el dataframe original con el nuevo dataframe creado\n",
    "# y elimina la columna \"reviews\" del dataframe concatenado\n",
    "df_reviews = pd.concat([df_comenExpan.drop(['reviews'], axis=1), df_comenExpan['reviews'].apply(pd.Series)], axis=1)"
   ]
  },
  {
   "cell_type": "code",
   "execution_count": 33,
   "metadata": {},
   "outputs": [
    {
     "data": {
      "text/html": [
       "<div>\n",
       "<style scoped>\n",
       "    .dataframe tbody tr th:only-of-type {\n",
       "        vertical-align: middle;\n",
       "    }\n",
       "\n",
       "    .dataframe tbody tr th {\n",
       "        vertical-align: top;\n",
       "    }\n",
       "\n",
       "    .dataframe thead th {\n",
       "        text-align: right;\n",
       "    }\n",
       "</style>\n",
       "<table border=\"1\" class=\"dataframe\">\n",
       "  <thead>\n",
       "    <tr style=\"text-align: right;\">\n",
       "      <th></th>\n",
       "      <th>user_id</th>\n",
       "      <th>user_url</th>\n",
       "      <th>funny</th>\n",
       "      <th>posted</th>\n",
       "      <th>last_edited</th>\n",
       "      <th>item_id</th>\n",
       "      <th>helpful</th>\n",
       "      <th>recommend</th>\n",
       "      <th>review</th>\n",
       "      <th>0</th>\n",
       "    </tr>\n",
       "  </thead>\n",
       "  <tbody>\n",
       "    <tr>\n",
       "      <th>0</th>\n",
       "      <td>76561197970982479</td>\n",
       "      <td>http://steamcommunity.com/profiles/76561197970...</td>\n",
       "      <td></td>\n",
       "      <td>Posted November 5, 2011.</td>\n",
       "      <td></td>\n",
       "      <td>1250</td>\n",
       "      <td>No ratings yet</td>\n",
       "      <td>True</td>\n",
       "      <td>Simple yet with great replayability. In my opi...</td>\n",
       "      <td>NaN</td>\n",
       "    </tr>\n",
       "    <tr>\n",
       "      <th>0</th>\n",
       "      <td>76561197970982479</td>\n",
       "      <td>http://steamcommunity.com/profiles/76561197970...</td>\n",
       "      <td></td>\n",
       "      <td>Posted July 15, 2011.</td>\n",
       "      <td></td>\n",
       "      <td>22200</td>\n",
       "      <td>No ratings yet</td>\n",
       "      <td>True</td>\n",
       "      <td>It's unique and worth a playthrough.</td>\n",
       "      <td>NaN</td>\n",
       "    </tr>\n",
       "    <tr>\n",
       "      <th>0</th>\n",
       "      <td>76561197970982479</td>\n",
       "      <td>http://steamcommunity.com/profiles/76561197970...</td>\n",
       "      <td></td>\n",
       "      <td>Posted April 21, 2011.</td>\n",
       "      <td></td>\n",
       "      <td>43110</td>\n",
       "      <td>No ratings yet</td>\n",
       "      <td>True</td>\n",
       "      <td>Great atmosphere. The gunplay can be a bit chu...</td>\n",
       "      <td>NaN</td>\n",
       "    </tr>\n",
       "    <tr>\n",
       "      <th>1</th>\n",
       "      <td>js41637</td>\n",
       "      <td>http://steamcommunity.com/id/js41637</td>\n",
       "      <td></td>\n",
       "      <td>Posted June 24, 2014.</td>\n",
       "      <td></td>\n",
       "      <td>251610</td>\n",
       "      <td>15 of 20 people (75%) found this review helpful</td>\n",
       "      <td>True</td>\n",
       "      <td>I know what you think when you see this title ...</td>\n",
       "      <td>NaN</td>\n",
       "    </tr>\n",
       "    <tr>\n",
       "      <th>1</th>\n",
       "      <td>js41637</td>\n",
       "      <td>http://steamcommunity.com/id/js41637</td>\n",
       "      <td></td>\n",
       "      <td>Posted September 8, 2013.</td>\n",
       "      <td></td>\n",
       "      <td>227300</td>\n",
       "      <td>0 of 1 people (0%) found this review helpful</td>\n",
       "      <td>True</td>\n",
       "      <td>For a simple (it's actually not all that simpl...</td>\n",
       "      <td>NaN</td>\n",
       "    </tr>\n",
       "  </tbody>\n",
       "</table>\n",
       "</div>"
      ],
      "text/plain": [
       "             user_id                                           user_url funny  \\\n",
       "0  76561197970982479  http://steamcommunity.com/profiles/76561197970...         \n",
       "0  76561197970982479  http://steamcommunity.com/profiles/76561197970...         \n",
       "0  76561197970982479  http://steamcommunity.com/profiles/76561197970...         \n",
       "1            js41637               http://steamcommunity.com/id/js41637         \n",
       "1            js41637               http://steamcommunity.com/id/js41637         \n",
       "\n",
       "                      posted last_edited item_id  \\\n",
       "0   Posted November 5, 2011.                1250   \n",
       "0      Posted July 15, 2011.               22200   \n",
       "0     Posted April 21, 2011.               43110   \n",
       "1      Posted June 24, 2014.              251610   \n",
       "1  Posted September 8, 2013.              227300   \n",
       "\n",
       "                                           helpful recommend  \\\n",
       "0                                   No ratings yet      True   \n",
       "0                                   No ratings yet      True   \n",
       "0                                   No ratings yet      True   \n",
       "1  15 of 20 people (75%) found this review helpful      True   \n",
       "1     0 of 1 people (0%) found this review helpful      True   \n",
       "\n",
       "                                              review   0  \n",
       "0  Simple yet with great replayability. In my opi... NaN  \n",
       "0               It's unique and worth a playthrough. NaN  \n",
       "0  Great atmosphere. The gunplay can be a bit chu... NaN  \n",
       "1  I know what you think when you see this title ... NaN  \n",
       "1  For a simple (it's actually not all that simpl... NaN  "
      ]
     },
     "execution_count": 33,
     "metadata": {},
     "output_type": "execute_result"
    }
   ],
   "source": [
    "df_reviews.head()"
   ]
  },
  {
   "cell_type": "code",
   "execution_count": 34,
   "metadata": {},
   "outputs": [],
   "source": [
    "columns = ['user_id', 'posted', 'item_id','recommend','review']\n",
    "df_reviews = df_reviews[columns]"
   ]
  },
  {
   "cell_type": "code",
   "execution_count": 35,
   "metadata": {},
   "outputs": [
    {
     "data": {
      "text/html": [
       "<div>\n",
       "<style scoped>\n",
       "    .dataframe tbody tr th:only-of-type {\n",
       "        vertical-align: middle;\n",
       "    }\n",
       "\n",
       "    .dataframe tbody tr th {\n",
       "        vertical-align: top;\n",
       "    }\n",
       "\n",
       "    .dataframe thead th {\n",
       "        text-align: right;\n",
       "    }\n",
       "</style>\n",
       "<table border=\"1\" class=\"dataframe\">\n",
       "  <thead>\n",
       "    <tr style=\"text-align: right;\">\n",
       "      <th></th>\n",
       "      <th>user_id</th>\n",
       "      <th>posted</th>\n",
       "      <th>item_id</th>\n",
       "      <th>recommend</th>\n",
       "      <th>review</th>\n",
       "    </tr>\n",
       "  </thead>\n",
       "  <tbody>\n",
       "    <tr>\n",
       "      <th>0</th>\n",
       "      <td>76561197970982479</td>\n",
       "      <td>Posted November 5, 2011.</td>\n",
       "      <td>1250</td>\n",
       "      <td>True</td>\n",
       "      <td>Simple yet with great replayability. In my opi...</td>\n",
       "    </tr>\n",
       "    <tr>\n",
       "      <th>0</th>\n",
       "      <td>76561197970982479</td>\n",
       "      <td>Posted July 15, 2011.</td>\n",
       "      <td>22200</td>\n",
       "      <td>True</td>\n",
       "      <td>It's unique and worth a playthrough.</td>\n",
       "    </tr>\n",
       "    <tr>\n",
       "      <th>0</th>\n",
       "      <td>76561197970982479</td>\n",
       "      <td>Posted April 21, 2011.</td>\n",
       "      <td>43110</td>\n",
       "      <td>True</td>\n",
       "      <td>Great atmosphere. The gunplay can be a bit chu...</td>\n",
       "    </tr>\n",
       "    <tr>\n",
       "      <th>1</th>\n",
       "      <td>js41637</td>\n",
       "      <td>Posted June 24, 2014.</td>\n",
       "      <td>251610</td>\n",
       "      <td>True</td>\n",
       "      <td>I know what you think when you see this title ...</td>\n",
       "    </tr>\n",
       "    <tr>\n",
       "      <th>1</th>\n",
       "      <td>js41637</td>\n",
       "      <td>Posted September 8, 2013.</td>\n",
       "      <td>227300</td>\n",
       "      <td>True</td>\n",
       "      <td>For a simple (it's actually not all that simpl...</td>\n",
       "    </tr>\n",
       "  </tbody>\n",
       "</table>\n",
       "</div>"
      ],
      "text/plain": [
       "             user_id                     posted item_id recommend  \\\n",
       "0  76561197970982479   Posted November 5, 2011.    1250      True   \n",
       "0  76561197970982479      Posted July 15, 2011.   22200      True   \n",
       "0  76561197970982479     Posted April 21, 2011.   43110      True   \n",
       "1            js41637      Posted June 24, 2014.  251610      True   \n",
       "1            js41637  Posted September 8, 2013.  227300      True   \n",
       "\n",
       "                                              review  \n",
       "0  Simple yet with great replayability. In my opi...  \n",
       "0               It's unique and worth a playthrough.  \n",
       "0  Great atmosphere. The gunplay can be a bit chu...  \n",
       "1  I know what you think when you see this title ...  \n",
       "1  For a simple (it's actually not all that simpl...  "
      ]
     },
     "execution_count": 35,
     "metadata": {},
     "output_type": "execute_result"
    }
   ],
   "source": [
    "df_reviews.head()"
   ]
  },
  {
   "cell_type": "code",
   "execution_count": 36,
   "metadata": {},
   "outputs": [
    {
     "data": {
      "text/html": [
       "<div>\n",
       "<style scoped>\n",
       "    .dataframe tbody tr th:only-of-type {\n",
       "        vertical-align: middle;\n",
       "    }\n",
       "\n",
       "    .dataframe tbody tr th {\n",
       "        vertical-align: top;\n",
       "    }\n",
       "\n",
       "    .dataframe thead th {\n",
       "        text-align: right;\n",
       "    }\n",
       "</style>\n",
       "<table border=\"1\" class=\"dataframe\">\n",
       "  <thead>\n",
       "    <tr style=\"text-align: right;\">\n",
       "      <th></th>\n",
       "      <th>id</th>\n",
       "      <th>app_name</th>\n",
       "    </tr>\n",
       "  </thead>\n",
       "  <tbody>\n",
       "    <tr>\n",
       "      <th>0</th>\n",
       "      <td>10.0</td>\n",
       "      <td>Counter-Strike</td>\n",
       "    </tr>\n",
       "    <tr>\n",
       "      <th>1</th>\n",
       "      <td>20.0</td>\n",
       "      <td>Team Fortress Classic</td>\n",
       "    </tr>\n",
       "    <tr>\n",
       "      <th>2</th>\n",
       "      <td>30.0</td>\n",
       "      <td>Day of Defeat</td>\n",
       "    </tr>\n",
       "    <tr>\n",
       "      <th>3</th>\n",
       "      <td>40.0</td>\n",
       "      <td>Deathmatch Classic</td>\n",
       "    </tr>\n",
       "    <tr>\n",
       "      <th>4</th>\n",
       "      <td>50.0</td>\n",
       "      <td>Half-Life: Opposing Force</td>\n",
       "    </tr>\n",
       "  </tbody>\n",
       "</table>\n",
       "</div>"
      ],
      "text/plain": [
       "     id                   app_name\n",
       "0  10.0             Counter-Strike\n",
       "1  20.0      Team Fortress Classic\n",
       "2  30.0              Day of Defeat\n",
       "3  40.0         Deathmatch Classic\n",
       "4  50.0  Half-Life: Opposing Force"
      ]
     },
     "execution_count": 36,
     "metadata": {},
     "output_type": "execute_result"
    }
   ],
   "source": [
    "df_names = pd.read_csv('id_names.csv')\n",
    "df_names.head()"
   ]
  },
  {
   "cell_type": "code",
   "execution_count": 37,
   "metadata": {},
   "outputs": [],
   "source": [
    "df_names['id'] = df_names['id'].astype(int)"
   ]
  },
  {
   "cell_type": "code",
   "execution_count": 38,
   "metadata": {},
   "outputs": [],
   "source": [
    "#Renombramos para facilitar el merge.\n",
    "df_reviews.rename(columns={'item_id': 'id'}, inplace=True)\n"
   ]
  },
  {
   "cell_type": "code",
   "execution_count": 39,
   "metadata": {},
   "outputs": [],
   "source": [
    "#Eliminamos los nulos de la columna 'id'.\n",
    "df_reviews = df_reviews.dropna(subset=['id'])\n"
   ]
  },
  {
   "cell_type": "code",
   "execution_count": 40,
   "metadata": {},
   "outputs": [],
   "source": [
    "#Convertimos la columna 'id' en integers para facilitar el merge.\n",
    "df_reviews['id'] = df_reviews['id'].astype(int)"
   ]
  },
  {
   "cell_type": "code",
   "execution_count": 41,
   "metadata": {},
   "outputs": [
    {
     "data": {
      "text/html": [
       "<div>\n",
       "<style scoped>\n",
       "    .dataframe tbody tr th:only-of-type {\n",
       "        vertical-align: middle;\n",
       "    }\n",
       "\n",
       "    .dataframe tbody tr th {\n",
       "        vertical-align: top;\n",
       "    }\n",
       "\n",
       "    .dataframe thead th {\n",
       "        text-align: right;\n",
       "    }\n",
       "</style>\n",
       "<table border=\"1\" class=\"dataframe\">\n",
       "  <thead>\n",
       "    <tr style=\"text-align: right;\">\n",
       "      <th></th>\n",
       "      <th>user_id</th>\n",
       "      <th>posted</th>\n",
       "      <th>id</th>\n",
       "      <th>recommend</th>\n",
       "      <th>review</th>\n",
       "      <th>app_name</th>\n",
       "    </tr>\n",
       "  </thead>\n",
       "  <tbody>\n",
       "    <tr>\n",
       "      <th>0</th>\n",
       "      <td>76561197970982479</td>\n",
       "      <td>Posted November 5, 2011.</td>\n",
       "      <td>1250</td>\n",
       "      <td>True</td>\n",
       "      <td>Simple yet with great replayability. In my opi...</td>\n",
       "      <td>Killing Floor</td>\n",
       "    </tr>\n",
       "    <tr>\n",
       "      <th>1</th>\n",
       "      <td>death-hunter</td>\n",
       "      <td>Posted March 30, 2015.</td>\n",
       "      <td>1250</td>\n",
       "      <td>True</td>\n",
       "      <td>Amazing, Non-stop action of blowing stuff to b...</td>\n",
       "      <td>Killing Floor</td>\n",
       "    </tr>\n",
       "    <tr>\n",
       "      <th>2</th>\n",
       "      <td>DJKamBer</td>\n",
       "      <td>Posted July 12, 2013.</td>\n",
       "      <td>1250</td>\n",
       "      <td>True</td>\n",
       "      <td>Compared to Left 4 Dead 2, this game REALLY gi...</td>\n",
       "      <td>Killing Floor</td>\n",
       "    </tr>\n",
       "    <tr>\n",
       "      <th>3</th>\n",
       "      <td>diego9031</td>\n",
       "      <td>Posted August 13, 2015.</td>\n",
       "      <td>1250</td>\n",
       "      <td>True</td>\n",
       "      <td>Jogo ‚ô•‚ô•‚ô•‚ô•.</td>\n",
       "      <td>Killing Floor</td>\n",
       "    </tr>\n",
       "    <tr>\n",
       "      <th>4</th>\n",
       "      <td>76561198081962345</td>\n",
       "      <td>Posted April 5, 2014.</td>\n",
       "      <td>1250</td>\n",
       "      <td>True</td>\n",
       "      <td>cara nas imagens esse jogo da pouco de medo ma...</td>\n",
       "      <td>Killing Floor</td>\n",
       "    </tr>\n",
       "  </tbody>\n",
       "</table>\n",
       "</div>"
      ],
      "text/plain": [
       "             user_id                    posted    id recommend  \\\n",
       "0  76561197970982479  Posted November 5, 2011.  1250      True   \n",
       "1       death-hunter    Posted March 30, 2015.  1250      True   \n",
       "2           DJKamBer     Posted July 12, 2013.  1250      True   \n",
       "3          diego9031   Posted August 13, 2015.  1250      True   \n",
       "4  76561198081962345     Posted April 5, 2014.  1250      True   \n",
       "\n",
       "                                              review       app_name  \n",
       "0  Simple yet with great replayability. In my opi...  Killing Floor  \n",
       "1  Amazing, Non-stop action of blowing stuff to b...  Killing Floor  \n",
       "2  Compared to Left 4 Dead 2, this game REALLY gi...  Killing Floor  \n",
       "3                                 Jogo ‚ô•‚ô•‚ô•‚ô•.  Killing Floor  \n",
       "4  cara nas imagens esse jogo da pouco de medo ma...  Killing Floor  "
      ]
     },
     "execution_count": 41,
     "metadata": {},
     "output_type": "execute_result"
    }
   ],
   "source": [
    "#Hacemos el merge.\n",
    "df_reviews = pd.merge(df_reviews, df_names, on='id', how='inner')\n",
    "df_reviews.head()"
   ]
  },
  {
   "cell_type": "code",
   "execution_count": 42,
   "metadata": {},
   "outputs": [],
   "source": [
    "#Ordenamos el dataframe en base a la columna 'id'\n",
    "df_reviews = df_reviews.sort_values(by='id')"
   ]
  },
  {
   "cell_type": "code",
   "execution_count": 43,
   "metadata": {},
   "outputs": [],
   "source": [
    "#Extraigo los anios desde la columna 'posted'.\n",
    "df_reviews['year'] = df_reviews['posted'].str.extract(r'(\\d{4})')"
   ]
  },
  {
   "cell_type": "code",
   "execution_count": 44,
   "metadata": {},
   "outputs": [
    {
     "name": "stdout",
     "output_type": "stream",
     "text": [
      "['2015' '2014' nan '2013' '2012' '2011' '2010']\n"
     ]
    }
   ],
   "source": [
    "#Imprimo los valores unicos para poder rellenar el nulo con el anio faltante de la serie\n",
    "unique_years = df_reviews['year'].unique()\n",
    "print(unique_years)"
   ]
  },
  {
   "cell_type": "code",
   "execution_count": 45,
   "metadata": {},
   "outputs": [],
   "source": [
    "#Lleno los nulos con el valor faltante de la serie '2016'\n",
    "# asumiendo ese valor para no eliminar todas esa data que \n",
    "# no tiene anio especificado.\n",
    "df_reviews['year'].fillna(2016, inplace=True)"
   ]
  },
  {
   "cell_type": "code",
   "execution_count": 46,
   "metadata": {},
   "outputs": [],
   "source": [
    "#Convierto la columna 'year' en integers.\n",
    "df_reviews['year'] = df_reviews['year'].astype(int)"
   ]
  },
  {
   "cell_type": "code",
   "execution_count": 47,
   "metadata": {},
   "outputs": [
    {
     "data": {
      "text/html": [
       "<div>\n",
       "<style scoped>\n",
       "    .dataframe tbody tr th:only-of-type {\n",
       "        vertical-align: middle;\n",
       "    }\n",
       "\n",
       "    .dataframe tbody tr th {\n",
       "        vertical-align: top;\n",
       "    }\n",
       "\n",
       "    .dataframe thead th {\n",
       "        text-align: right;\n",
       "    }\n",
       "</style>\n",
       "<table border=\"1\" class=\"dataframe\">\n",
       "  <thead>\n",
       "    <tr style=\"text-align: right;\">\n",
       "      <th></th>\n",
       "      <th>user_id</th>\n",
       "      <th>posted</th>\n",
       "      <th>id</th>\n",
       "      <th>recommend</th>\n",
       "      <th>review</th>\n",
       "      <th>app_name</th>\n",
       "      <th>year</th>\n",
       "    </tr>\n",
       "  </thead>\n",
       "  <tbody>\n",
       "    <tr>\n",
       "      <th>36298</th>\n",
       "      <td>TheRealChris02</td>\n",
       "      <td>Posted February 17, 2015.</td>\n",
       "      <td>10</td>\n",
       "      <td>True</td>\n",
       "      <td>Best old school game</td>\n",
       "      <td>Counter-Strike</td>\n",
       "      <td>2015</td>\n",
       "    </tr>\n",
       "    <tr>\n",
       "      <th>36289</th>\n",
       "      <td>pwnddumass</td>\n",
       "      <td>Posted April 10, 2014.</td>\n",
       "      <td>10</td>\n",
       "      <td>True</td>\n",
       "      <td>Really good game for its time! if you have a t...</td>\n",
       "      <td>Counter-Strike</td>\n",
       "      <td>2014</td>\n",
       "    </tr>\n",
       "    <tr>\n",
       "      <th>36290</th>\n",
       "      <td>NicolasNic</td>\n",
       "      <td>Posted June 21, 2014.</td>\n",
       "      <td>10</td>\n",
       "      <td>True</td>\n",
       "      <td>2012-2014:  awsome classic game changing shoot...</td>\n",
       "      <td>Counter-Strike</td>\n",
       "      <td>2014</td>\n",
       "    </tr>\n",
       "    <tr>\n",
       "      <th>36291</th>\n",
       "      <td>Hype_R</td>\n",
       "      <td>Posted January 30.</td>\n",
       "      <td>10</td>\n",
       "      <td>True</td>\n",
       "      <td>Best God Damn Game Known To Man Kind</td>\n",
       "      <td>Counter-Strike</td>\n",
       "      <td>2016</td>\n",
       "    </tr>\n",
       "    <tr>\n",
       "      <th>36292</th>\n",
       "      <td>KILLERamateur</td>\n",
       "      <td>Posted March 9, 2014.</td>\n",
       "      <td>10</td>\n",
       "      <td>True</td>\n",
       "      <td>I heard that when i was made it was a huge suc...</td>\n",
       "      <td>Counter-Strike</td>\n",
       "      <td>2014</td>\n",
       "    </tr>\n",
       "  </tbody>\n",
       "</table>\n",
       "</div>"
      ],
      "text/plain": [
       "              user_id                     posted  id recommend  \\\n",
       "36298  TheRealChris02  Posted February 17, 2015.  10      True   \n",
       "36289      pwnddumass     Posted April 10, 2014.  10      True   \n",
       "36290      NicolasNic      Posted June 21, 2014.  10      True   \n",
       "36291          Hype_R         Posted January 30.  10      True   \n",
       "36292   KILLERamateur      Posted March 9, 2014.  10      True   \n",
       "\n",
       "                                                  review        app_name  year  \n",
       "36298                               Best old school game  Counter-Strike  2015  \n",
       "36289  Really good game for its time! if you have a t...  Counter-Strike  2014  \n",
       "36290  2012-2014:  awsome classic game changing shoot...  Counter-Strike  2014  \n",
       "36291               Best God Damn Game Known To Man Kind  Counter-Strike  2016  \n",
       "36292  I heard that when i was made it was a huge suc...  Counter-Strike  2014  "
      ]
     },
     "execution_count": 47,
     "metadata": {},
     "output_type": "execute_result"
    }
   ],
   "source": [
    "#Imprimo para checkear\n",
    "df_reviews.head()"
   ]
  },
  {
   "cell_type": "code",
   "execution_count": 48,
   "metadata": {},
   "outputs": [
    {
     "data": {
      "text/plain": [
       "user_id      object\n",
       "posted       object\n",
       "id            int32\n",
       "recommend    object\n",
       "review       object\n",
       "app_name     object\n",
       "year          int32\n",
       "dtype: object"
      ]
     },
     "execution_count": 48,
     "metadata": {},
     "output_type": "execute_result"
    }
   ],
   "source": [
    "df_reviews.dtypes"
   ]
  },
  {
   "cell_type": "code",
   "execution_count": 49,
   "metadata": {},
   "outputs": [
    {
     "name": "stderr",
     "output_type": "stream",
     "text": [
      "[nltk_data] Downloading package vader_lexicon to\n",
      "[nltk_data]     C:\\Users\\Maverick\\AppData\\Roaming\\nltk_data...\n",
      "[nltk_data]   Package vader_lexicon is already up-to-date!\n"
     ]
    },
    {
     "name": "stdout",
     "output_type": "stream",
     "text": [
      "                 user_id                     posted      id recommend  \\\n",
      "36298     TheRealChris02  Posted February 17, 2015.      10      True   \n",
      "36289         pwnddumass     Posted April 10, 2014.      10      True   \n",
      "36290         NicolasNic      Posted June 21, 2014.      10      True   \n",
      "36291             Hype_R         Posted January 30.      10      True   \n",
      "36292      KILLERamateur      Posted March 9, 2014.      10      True   \n",
      "...                  ...                        ...     ...       ...   \n",
      "48650  76561198075141715          Posted August 25.  521430      True   \n",
      "47323        TfhuAWGscvg          Posted August 30.  521570      True   \n",
      "47324  76561198071122396          Posted August 29.  521570      True   \n",
      "48196           mikeyg74       Posted September 17.  521990      True   \n",
      "48075           Limo1300       Posted September 15.  527340      True   \n",
      "\n",
      "                                                  review  \\\n",
      "36298                               Best old school game   \n",
      "36289  Really good game for its time! if you have a t...   \n",
      "36290  2012-2014:  awsome classic game changing shoot...   \n",
      "36291               Best God Damn Game Known To Man Kind   \n",
      "36292  I heard that when i was made it was a huge suc...   \n",
      "...                                                  ...   \n",
      "48650  A neat platformer, that has a nice geometric l...   \n",
      "47323                                             6-5 =/   \n",
      "47324                                           kill me.   \n",
      "48196  This is one of the nicest looking shoot'em ups...   \n",
      "48075  The unboxing experience wasn't great... but th...   \n",
      "\n",
      "                    app_name  year sentiment_analysis  \n",
      "36298         Counter-Strike  2015           Positivo  \n",
      "36289         Counter-Strike  2014           Positivo  \n",
      "36290         Counter-Strike  2014           Positivo  \n",
      "36291         Counter-Strike  2016           Positivo  \n",
      "36292         Counter-Strike  2014           Positivo  \n",
      "...                      ...   ...                ...  \n",
      "48650           Super Switch  2016           Positivo  \n",
      "47323  You Have 10 Seconds 2  2016           Negativo  \n",
      "47324  You Have 10 Seconds 2  2016           Negativo  \n",
      "48196         Galactic Storm  2016           Positivo  \n",
      "48075          What The Box?  2016            Neutral  \n",
      "\n",
      "[50354 rows x 8 columns]\n"
     ]
    }
   ],
   "source": [
    "import pandas as pd\n",
    "from textblob import TextBlob\n",
    "import nltk\n",
    "from nltk.sentiment.vader import SentimentIntensityAnalyzer\n",
    "\n",
    "# Descargamos los recursos de NLTK (solo es necesario hacerlo una vez)\n",
    "nltk.download('vader_lexicon')\n",
    "\n",
    "# Creamos la instancia del SentimentIntensityAnalyzer\n",
    "sia = SentimentIntensityAnalyzer()\n",
    "\n",
    "# Creamos una función para realizar el análisis de sentimiento\n",
    "def analyze_sentiment(text):\n",
    "\n",
    "    analysis = TextBlob(text)\n",
    "    sentiment = analysis.sentiment.polarity\n",
    "\n",
    "    vader_scores = sia.polarity_scores(text)\n",
    "    compound_sentiment = vader_scores['compound']\n",
    "\n",
    "    if compound_sentiment >= 0.05:\n",
    "        return 2  # Positivo\n",
    "    elif compound_sentiment <= -0.05:\n",
    "        return 0  # Negativo\n",
    "    else:\n",
    "        return 1  # Neutral\n",
    "\n",
    "\n",
    "# Aplicamos la función de análisis de sentimiento a la columna \"review\"\n",
    "df_reviews['sentiment_analysis'] = df_reviews['review'].apply(analyze_sentiment)\n",
    "\n",
    "# Mapeamos los valores numéricos a etiquetas de sentimiento\n",
    "sentiment_mapping = {\n",
    "    0: 'Negativo',\n",
    "    1: 'Neutral',\n",
    "    2: 'Positivo'\n",
    "}\n",
    "df_reviews['sentiment_analysis'] = df_reviews['sentiment_analysis'].map(sentiment_mapping)\n",
    "\n",
    "# Imprimimos el DataFrame resultante\n",
    "print(df_reviews)\n"
   ]
  },
  {
   "cell_type": "code",
   "execution_count": 50,
   "metadata": {},
   "outputs": [],
   "source": [
    "#Guardo el archivo final en un '.csv'\n",
    "df_reviews.to_csv('reviews.csv', index=False)"
   ]
  }
 ],
 "metadata": {
  "kernelspec": {
   "display_name": "PIMLOps",
   "language": "python",
   "name": "python3"
  },
  "language_info": {
   "codemirror_mode": {
    "name": "ipython",
    "version": 3
   },
   "file_extension": ".py",
   "mimetype": "text/x-python",
   "name": "python",
   "nbconvert_exporter": "python",
   "pygments_lexer": "ipython3",
   "version": "3.10.10"
  },
  "orig_nbformat": 4
 },
 "nbformat": 4,
 "nbformat_minor": 2
}
